{
 "cells": [
  {
   "cell_type": "code",
   "execution_count": 2,
   "metadata": {},
   "outputs": [],
   "source": [
    "import json\n",
    "import numpy as np\n",
    "from metaspace.sm_annotation_utils import SMInstance # pip install metaspace2020\n",
    "import os"
   ]
  },
  {
   "cell_type": "code",
   "execution_count": 18,
   "metadata": {},
   "outputs": [],
   "source": [
    "#dataset folder name: DS\n",
    "# create a folder MSI: mkdir DS/MSI\n",
    "# mkdir DS/MSI/raw_data\n",
    "# mkdir DS/MSI/centroid_data\n",
    "\n",
    "# create parameters folder: mkdir DS_1/parameters\n",
    "# create parameters folder: mkdir DS_1/parameters/pre_processing"
   ]
  },
  {
   "cell_type": "code",
   "execution_count": 23,
   "metadata": {},
   "outputs": [
    {
     "name": "stdout",
     "output_type": "stream",
     "text": [
      "Wrote /media/USB/DL_MASS/Dataset/DS/MSI/raw_data/S-2006-004769-2_Sec8_S2_lip_pos_20201203_dv/#8.imzML\n",
      "Wrote /media/USB/DL_MASS/Dataset/DS/MSI/raw_data/S-2006-004769-2_Sec8_S2_lip_pos_20201203_dv/#8.ibd\n",
      "Wrote /media/USB/DL_MASS/Dataset/DS/MSI/raw_data/20210814_jl_lungmap_d281_8a3_pos_slide2_7b/20210814_jl_lungmap_d281_8a3_pos_slide2_7b.imzML\n",
      "Wrote /media/USB/DL_MASS/Dataset/DS/MSI/raw_data/20210814_jl_lungmap_d281_8a3_pos_slide2_7b/20210814_jl_lungmap_d281_8a3_pos_slide2_7b.ibd\n",
      "Wrote /media/USB/DL_MASS/Dataset/DS/MSI/raw_data/16012020_DN_VS_RW10S2_722_exp18_100_143x461_30/16012020_DN_VS_RW10S2_722_exp18_100_143x461_30.imzML\n",
      "Wrote /media/USB/DL_MASS/Dataset/DS/MSI/raw_data/16012020_DN_VS_RW10S2_722_exp18_100_143x461_30/16012020_DN_VS_RW10S2_722_exp18_100_143x461_30.ibd\n",
      "Wrote /media/USB/DL_MASS/Dataset/DS/MSI/raw_data/2019-12-12_DDN_SCoelicolor_100_180x317_30/2019-12-12_DDN_SCoelicolor_100_180x317_30.imzML\n",
      "Wrote /media/USB/DL_MASS/Dataset/DS/MSI/raw_data/2019-12-12_DDN_SCoelicolor_100_180x317_30/2019-12-12_DDN_SCoelicolor_100_180x317_30.ibd\n"
     ]
    }
   ],
   "source": [
    "metaspace_im = [\"2020-12-09_02h41m05s\",\"2021-08-16_23h19m04s\" ,\"2020-01-17_17h36m25s\",\"2019-12-16_15h22m13s\"]\n",
    "\n",
    "folder_msi = \"/media/USB/DL_MASS/Dataset/DS/MSI/raw_data/\"\n",
    "sm = SMInstance()\n",
    "for dsid in metaspace_im:\n",
    "\n",
    "    ds = sm.dataset(id=dsid)\n",
    "    os.mkdir(folder_msi + ds.name)\n",
    "    ds.download_to_dir(folder_msi + ds.name)"
   ]
  },
  {
   "cell_type": "code",
   "execution_count": null,
   "metadata": {},
   "outputs": [],
   "source": [
    "# rename\n",
    "#/media/USB/DL_MASS/Dataset/DS/MSI/raw_data/S-2006-004769-2_Sec8_S2_lip_pos_20201203_dv/#8.imzML and #8.ibd\n",
    "#by\n",
    "#/media/USB/DL_MASS/Dataset/DS/MSI/raw_data/S-2006-004769-2_Sec8_S2_lip_pos_20201203_dv/S-2006-004769-2_Sec8_S2_lip_pos_20201203_dv.imzML and S-2006-004769-2_Sec8_S2_lip_pos_20201203_dv.ibd\n"
   ]
  },
  {
   "cell_type": "code",
   "execution_count": null,
   "metadata": {},
   "outputs": [],
   "source": [
    "# create parameters folder: mkdir DS/parameters\n",
    "# create parameters folder: mkdir DS/parameters/pre_processing"
   ]
  },
  {
   "cell_type": "code",
   "execution_count": 26,
   "metadata": {},
   "outputs": [],
   "source": [
    "#create json param file for preprocessing \n",
    "mass_diff = np.genfromtxt(\"/media/USB/DL_MASS/Dataset/DS/mass_diff.csv\")\n",
    "mass_diff = mass_diff.tolist()\n",
    "folder_path = \"/media/USB/DL_MASS/Dataset/DS/\"\n",
    "\n",
    "dictionary ={\n",
    "    \"max_peaks\": 2000,\n",
    "    \"mass_diff\": mass_diff,\n",
    "    \"tolerance\": 0.001,\n",
    "    \"mass range\": [200, 1400],\n",
    "    \"msi_dir\": folder_path+\"MSI/raw_data/\",\n",
    "    \"output_dir\": folder_path+\"MSI/centroid_data/\",\n",
    "    \"file_type\": \"imzML\",\n",
    "    \"annot_table\":folder_path+\"Annot_table_organs.csv\"\n",
    "}\n",
    "\n",
    "json_object = json.dumps(dictionary,indent=4)\n",
    "\n",
    "with open(folder_path +\"parameters/pre_processing/param_1.json\", \"w\") as outfile:\n",
    "    outfile.write(json_object)\n",
    "    \n",
    "    \n",
    "mass_diff = np.genfromtxt(\"/media/USB/DL_MASS/Dataset/DS/mass_diff.csv\")\n",
    "mass_diff = mass_diff.tolist()\n",
    "folder_path = \"/media/USB/DL_MASS/Dataset/DS/\"\n",
    "\n",
    "dictionary ={\n",
    "    \"max_peaks\": 2000,\n",
    "    \"mass_diff\": mass_diff,\n",
    "    \"tolerance\": 0.001,\n",
    "    \"mass range\": [200, 1400],\n",
    "    \"msi_dir\": folder_path+\"MSI/raw_data/\",\n",
    "    \"output_dir\": folder_path+\"MSI/centroid_data/\",\n",
    "    \"file_type\": \"imzML\",\n",
    "    \"annot_table\":folder_path+\"Annot_table_bacteria.csv\"\n",
    "}\n",
    "\n",
    "json_object = json.dumps(dictionary,indent=4)\n",
    "\n",
    "with open(folder_path +\"parameters/pre_processing/param_2.json\", \"w\") as outfile:\n",
    "    outfile.write(json_object)\n",
    "         "
   ]
  },
  {
   "cell_type": "code",
   "execution_count": null,
   "metadata": {},
   "outputs": [],
   "source": [
    "conda install -c bioconda pyimzml\n",
    "conda install -c conda-forge glob2"
   ]
  },
  {
   "cell_type": "code",
   "execution_count": null,
   "metadata": {},
   "outputs": [],
   "source": [
    "# command line for pre_processing \n",
    "nohup python \"/home/user/Massconvnet/Massconvnet/MSI_preprocessing/Centroid_from_imzml.py\" -i \"/media/USB/DL_MASS/Dataset/DS/parameters/pre_processing/param_1.json\" &\n",
    "nohup python \"/home/user/Massconvnet/Massconvnet/MSI_preprocessing/Centroid_from_imzml.py\" -i \"/media/USB/DL_MASS/Dataset/DS/parameters/pre_processing/param_2.json\" &"
   ]
  },
  {
   "cell_type": "code",
   "execution_count": null,
   "metadata": {},
   "outputs": [],
   "source": [
    "# create parameters folder: mkdir DS/parameters/network"
   ]
  },
  {
   "cell_type": "code",
   "execution_count": 3,
   "metadata": {},
   "outputs": [],
   "source": [
    "folder_path = \"/media/USB/DL_MASS/Dataset/DS/\"\n",
    "\n",
    "dictionary ={\n",
    "    \"signal degradation\": False,\n",
    "    \"only test\": False,\n",
    "    \"only train\": False,\n",
    "    \"intensity limitation param\": 1,\n",
    "    \"mass shift param\": 0,\n",
    "    \"spectral resolution param\": 0,\n",
    "    \"random peaks removal param\": 1,\n",
    "    \"edge index to remove\": None,\n",
    "    \"Data augmentation\": 0,\n",
    "    \"Annotation name\": \"Annotations\",\n",
    "    \"training samples\": \"train\",\n",
    "    \"kfold seed\": 1,\n",
    "    \"kfold K\": 0\n",
    "}\n",
    "\n",
    "json_object = json.dumps(dictionary,indent=4)\n",
    "\n",
    "with open(folder_path +\"parameters/network/param_1.json\", \"w\") as outfile:\n",
    "    outfile.write(json_object)"
   ]
  },
  {
   "cell_type": "code",
   "execution_count": null,
   "metadata": {},
   "outputs": [],
   "source": []
  },
  {
   "cell_type": "code",
   "execution_count": null,
   "metadata": {},
   "outputs": [],
   "source": [
    "python /home/user/Massconvnet/Massconvnet/src/main.py --dataset_path=\"/media/USB/DL_MASS/Dataset/DS/\" --pre_process_param_name=param_1 --network_param_name=param_1 --with_masses --normalize\n",
    "python /home/user/Massconvnet/Massconvnet/src/main.py --dataset_path=\"/media/USB/DL_MASS/Dataset/DS/\" --pre_process_param_name=param_1 --network_param_name=param_2 --with_masses --normalize"
   ]
  },
  {
   "cell_type": "code",
   "execution_count": null,
   "metadata": {},
   "outputs": [],
   "source": [
    "### TODO\n",
    "# Replace the max pooling function by a global average function\n",
    "# From a trained model return the predicted class for each sample of the annot_table \n",
    "# From each peak in each sample return the its weight for the prediction of each class\n"
   ]
  },
  {
   "cell_type": "code",
   "execution_count": null,
   "metadata": {},
   "outputs": [],
   "source": []
  },
  {
   "cell_type": "code",
   "execution_count": null,
   "metadata": {},
   "outputs": [],
   "source": []
  },
  {
   "cell_type": "code",
   "execution_count": null,
   "metadata": {},
   "outputs": [],
   "source": []
  }
 ],
 "metadata": {
  "kernelspec": {
   "display_name": "tensorflow_gpu",
   "language": "python",
   "name": "tensorflow_gpu"
  },
  "language_info": {
   "codemirror_mode": {
    "name": "ipython",
    "version": 3
   },
   "file_extension": ".py",
   "mimetype": "text/x-python",
   "name": "python",
   "nbconvert_exporter": "python",
   "pygments_lexer": "ipython3",
   "version": "3.6.10"
  }
 },
 "nbformat": 4,
 "nbformat_minor": 4
}
